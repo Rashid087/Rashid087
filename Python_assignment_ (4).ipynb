{
  "nbformat": 4,
  "nbformat_minor": 0,
  "metadata": {
    "colab": {
      "provenance": []
    },
    "kernelspec": {
      "name": "python3",
      "display_name": "Python 3"
    },
    "language_info": {
      "name": "python"
    }
  },
  "cells": [
    {
      "cell_type": "markdown",
      "source": [
        "## Python Basics – Theory Questions\n",
        "\n",
        "---\n",
        "\n",
        "### **1. What is Python, and why is it popular?**  \n",
        "Python is a high-level, interpreted programming language known for its simplicity and readability. It's popular because of its clear syntax, large standard library, wide community support, and versatility in areas like web development, data science, AI, automation, and more.\n",
        "\n",
        "---\n",
        "\n",
        "### **2. What is an interpreter in Python?**  \n",
        "An interpreter is a program that reads and executes Python code line by line. Python uses an interpreter (like CPython) to convert source code into machine code at runtime.\n",
        "\n",
        "---\n",
        "\n",
        "### **3. What are pre-defined keywords in Python?**  \n",
        "Pre-defined keywords are reserved words that have special meaning in Python. Examples include `if`, `else`, `while`, `for`, `def`, `return`, `True`, `False`, etc. These cannot be used as variable names.\n",
        "\n",
        "---\n",
        "\n",
        "### **4. Can keywords be used as variable names?**  \n",
        "No, keywords cannot be used as variable names because they are reserved by the Python language for specific functionality.\n",
        "\n",
        "---\n",
        "\n",
        "### **5. What is mutability in Python?**  \n",
        "Mutability refers to whether an object’s value can change after it is created. Mutable objects (like lists) can be changed in place, whereas immutable ones (like tuples, strings) cannot.\n",
        "\n",
        "---\n",
        "\n",
        "### **6. Why are lists mutable, but tuples are immutable?**  \n",
        "Lists are mutable to allow dynamic data changes, useful in many applications. Tuples are immutable for data integrity and performance, making them suitable for fixed collections.\n",
        "\n",
        "---\n",
        "\n",
        "### **7. What is the difference between `==` and `is` operators in Python?**  \n",
        "- `==` checks if the values of two variables are equal.  \n",
        "- `is` checks if two variables refer to the same memory object.\n",
        "\n",
        "---\n",
        "\n",
        "### **8. What are logical operators in Python?**  \n",
        "Logical operators include:  \n",
        "- `and` → True if both are true  \n",
        "- `or` → True if at least one is true  \n",
        "- `not` → Inverts the boolean value\n",
        "\n",
        "---\n",
        "\n",
        "### **9. What is type casting in Python?**  \n",
        "Type casting is converting a variable from one data type to another.  \n",
        "Example: `int(\"5\")` converts the string `\"5\"` into an integer.\n",
        "\n",
        "---\n",
        "\n",
        "### **10. What is the difference between implicit and explicit type casting?**  \n",
        "- **Implicit**: Done automatically by Python (e.g., `int + float` gives a float).  \n",
        "- **Explicit**: Manually done by the programmer using functions like `int()`, `float()`, `str()`, etc.\n",
        "\n",
        "---\n",
        "\n",
        "### **11. What is the purpose of conditional statements in Python?**  \n",
        "Conditional statements like `if`, `elif`, and `else` allow the program to make decisions and execute different blocks of code based on conditions.\n",
        "\n",
        "---\n",
        "\n",
        "### **12. How does the `elif` statement work?**  \n",
        "`elif` (else-if) checks another condition if the previous `if` condition was false. It allows checking multiple conditions in a cleaner way than multiple nested `if`s.\n",
        "\n",
        "---\n",
        "\n",
        "### **13. What is the difference between `for` and `while` loops?**  \n",
        "- **`for` loop**: Used when the number of iterations is known (e.g., iterating over a list).  \n",
        "- **`while` loop**: Used when the condition is evaluated at each step and may vary dynamically.\n",
        "\n",
        "---\n",
        "\n",
        "### **14. Describe a scenario where a `while` loop is more suitable than a `for` loop.**  \n",
        "A `while` loop is better when we don’t know in advance how many times to repeat.  \n",
        "Example: Repeatedly asking for a password until the correct one is entered.\n",
        "\n",
        "---"
      ],
      "metadata": {
        "id": "RW27tK87iykA"
      }
    },
    {
      "cell_type": "code",
      "execution_count": null,
      "metadata": {
        "id": "D0vi5c6Fiboc"
      },
      "outputs": [],
      "source": [
        "## Python Practical Questions\n",
        "\n",
        "# 1. Print \"Hello, World!\"\n",
        "print(\"Hello, World!\")"
      ]
    },
    {
      "cell_type": "code",
      "source": [
        "# 2. Display your name and age\n",
        "name = \"Shifa\"\n",
        "age = 25\n",
        "print(\"Name:\", name)\n",
        "print(\"Age:\", age)"
      ],
      "metadata": {
        "id": "hFEdnsL0oYJf"
      },
      "execution_count": null,
      "outputs": []
    },
    {
      "cell_type": "code",
      "source": [
        "# Q3: Print all Python keywords\n",
        "import keyword\n",
        "print(\"Python Keywords:\")\n",
        "print(keyword.kwlist)\n"
      ],
      "metadata": {
        "id": "3PB4NjmZoY7T"
      },
      "execution_count": null,
      "outputs": []
    },
    {
      "cell_type": "code",
      "source": [
        "# Q4: Check if a word is a Python keyword\n",
        "import keyword\n",
        "word = \"def\"\n",
        "print(f\"{word} is a keyword? {keyword.iskeyword(word)}\")\n"
      ],
      "metadata": {
        "id": "-gn1WelupM28"
      },
      "execution_count": null,
      "outputs": []
    },
    {
      "cell_type": "code",
      "source": [
        "# Q5: Demonstrate mutable vs immutable behavior\n",
        "\n",
        "def modify(data):\n",
        "    data[0] = 100\n",
        "\n",
        "# Mutable example\n",
        "lst = [10, 20, 30]\n",
        "modify(lst)\n",
        "print(\"Modified List (mutable):\", lst)\n",
        "\n",
        "# Immutable example\n",
        "num = 50\n",
        "try:\n",
        "    modify(num)\n",
        "except Exception as e:\n",
        "    print(\"Can't modify immutable object directly:\", e)\n"
      ],
      "metadata": {
        "id": "jkneQZuZpQXL"
      },
      "execution_count": null,
      "outputs": []
    },
    {
      "cell_type": "code",
      "source": [
        "# Q6: Basic arithmetic operations\n",
        "num1 = 12.5\n",
        "num2 = 4.5\n",
        "\n",
        "print(\"First number:\", num1)\n",
        "print(\"Second number:\", num2)\n",
        "print(\"Sum:\", num1 + num2)\n",
        "print(\"Difference:\", num1 - num2)\n",
        "print(\"Product:\", num1 * num2)\n",
        "print(\"Quotient:\", num1 / num2)\n"
      ],
      "metadata": {
        "id": "BL8ajOZbpTzP"
      },
      "execution_count": null,
      "outputs": []
    },
    {
      "cell_type": "code",
      "source": [
        "# Q7: Logical operators\n",
        "x = True\n",
        "y = False\n",
        "\n",
        "print(\"x and y:\", x and y)\n",
        "print(\"x or y:\", x or y)\n",
        "print(\"not x:\", not x)\n"
      ],
      "metadata": {
        "id": "wEOEz87rpgPh"
      },
      "execution_count": null,
      "outputs": []
    },
    {
      "cell_type": "code",
      "source": [
        "# Q8: List and Tuple mutability demo\n",
        "my_list = [5, 10, 15]\n",
        "my_tuple = (5, 10, 15)\n",
        "\n",
        "my_list[0] = 99\n",
        "print(\"Modified List:\", my_list)\n",
        "\n",
        "try:\n",
        "    my_tuple[0] = 99\n",
        "except TypeError:\n",
        "    print(\"Cannot modify tuple (immutable)\")\n"
      ],
      "metadata": {
        "id": "AawEZEUDpw58"
      },
      "execution_count": null,
      "outputs": []
    },
    {
      "cell_type": "code",
      "source": [
        "# Q9: Convert string input to int, float, and bool\n",
        "s = \"23\"\n",
        "print(\"Original String:\", s)\n",
        "print(\"Integer:\", int(s))\n",
        "print(\"Float:\", float(s))\n",
        "print(\"Boolean:\", bool(s))\n"
      ],
      "metadata": {
        "id": "qkovQIbqp1oB"
      },
      "execution_count": null,
      "outputs": []
    },
    {
      "cell_type": "code",
      "source": [
        "# Q10: Type casting with list elements\n",
        "lst = [\"10\", \"20\", \"30\"]\n",
        "int_lst = list(map(int, lst))\n",
        "print(\"Converted to Integers:\", int_lst)\n"
      ],
      "metadata": {
        "id": "pVVbuTpFp3uc"
      },
      "execution_count": null,
      "outputs": []
    },
    {
      "cell_type": "code",
      "source": [
        "# Q11: Check if number is positive, negative, or zero\n",
        "num = -7\n",
        "print(\"Number entered:\", num)\n",
        "if num > 0:\n",
        "    print(\"Positive\")\n",
        "elif num < 0:\n",
        "    print(\"Negative\")\n",
        "else:\n",
        "    print(\"Zero\")\n"
      ],
      "metadata": {
        "id": "UJZl5K3_p59H"
      },
      "execution_count": null,
      "outputs": []
    },
    {
      "cell_type": "code",
      "source": [
        "# Q12: For loop from 1 to 10\n",
        "print(\"Numbers from 1 to 10:\")\n",
        "for i in range(1, 11):\n",
        "    print(i)\n"
      ],
      "metadata": {
        "id": "JLDGSRAGp8cU"
      },
      "execution_count": null,
      "outputs": []
    },
    {
      "cell_type": "code",
      "source": [
        "# Q13: Sum of even numbers between 1 and 50\n",
        "even_sum = sum(i for i in range(1, 51) if i % 2 == 0)\n",
        "print(\"Sum of even numbers from 1 to 50:\", even_sum)\n"
      ],
      "metadata": {
        "id": "-G_X1WuQp-se"
      },
      "execution_count": null,
      "outputs": []
    },
    {
      "cell_type": "code",
      "source": [
        "# Q14: Reverse a string using while loop\n",
        "text = \"Shifa\"\n",
        "reversed_text = \"\"\n",
        "i = len(text) - 1\n",
        "while i >= 0:\n",
        "    reversed_text += text[i]\n",
        "    i -= 1\n",
        "print(\"Original string:\", text)\n",
        "print(\"Reversed string:\", reversed_text)\n"
      ],
      "metadata": {
        "id": "QlteraQ6qCmP"
      },
      "execution_count": null,
      "outputs": []
    },
    {
      "cell_type": "code",
      "source": [
        "# Q15: Factorial using while loop\n",
        "num = 5\n",
        "factorial = 1\n",
        "i = 1\n",
        "while i <= num:\n",
        "    factorial *= i\n",
        "    i += 1\n",
        "print(f\"Factorial of {num} is:\", factorial)\n"
      ],
      "metadata": {
        "id": "O9uPk1ngqMqB"
      },
      "execution_count": null,
      "outputs": []
    }
  ]
}